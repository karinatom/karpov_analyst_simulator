{
 "cells": [
  {
   "cell_type": "code",
   "execution_count": null,
   "id": "005bcd85-368c-4f7b-b712-a6d9393941b3",
   "metadata": {},
   "outputs": [],
   "source": [
    "# импортируем нужные библиотеки\n",
    "import numpy as np\n",
    "import pandas as pd\n",
    "import pandahouse as ph\n",
    "import seaborn as sns\n",
    "import hashlib\n",
    "from scipy import stats"
   ]
  },
  {
   "cell_type": "code",
   "execution_count": null,
   "id": "f76ce249-b34a-48fa-8ec3-92403b6ef3e9",
   "metadata": {},
   "outputs": [],
   "source": [
    "# подключаемся к нашей базе данных\n",
    "connection = {'host': 'https://clickhouse.lab.karpov.courses',\n",
    "                      'database':'simulator_20220920',\n",
    "                      'user':'student', \n",
    "                      'password':'dpo_python_2020'\n",
    "                     }"
   ]
  },
  {
   "cell_type": "markdown",
   "id": "f8f91062-5397-4bbd-8e53-ab31cd66fa92",
   "metadata": {},
   "source": [
    "# Часть 1: Проверка системы сплитования"
   ]
  },
  {
   "cell_type": "markdown",
   "id": "aeb12133-5d5a-4b4b-b307-500ba0a6fa76",
   "metadata": {},
   "source": [
    "У нас есть данные АА-теста с '2022-08-27' по '2022-09-02'. Нужно убедиться, что наша система сплитования работает корректно, и ключевая метрика не отличается между группами не только в конкретно нашем АА-тесте, но и в целом.\n",
    "\n",
    "Сделаем симуляцию, как будто мы провели 10000 АА-тестов. На каждой итерации сформируем подвыборки без повторения в 500 юзеров из 2 и 3 экспериментальной группы. Проведем сравнение этих подвыборок t-testом."
   ]
  },
  {
   "cell_type": "code",
   "execution_count": 3,
   "id": "a0e740b3-43fe-40bc-a264-244283c6cec6",
   "metadata": {},
   "outputs": [
    {
     "data": {
      "text/html": [
       "<div>\n",
       "<style scoped>\n",
       "    .dataframe tbody tr th:only-of-type {\n",
       "        vertical-align: middle;\n",
       "    }\n",
       "\n",
       "    .dataframe tbody tr th {\n",
       "        vertical-align: top;\n",
       "    }\n",
       "\n",
       "    .dataframe thead th {\n",
       "        text-align: right;\n",
       "    }\n",
       "</style>\n",
       "<table border=\"1\" class=\"dataframe\">\n",
       "  <thead>\n",
       "    <tr style=\"text-align: right;\">\n",
       "      <th></th>\n",
       "      <th>uniqExact(user_id)</th>\n",
       "    </tr>\n",
       "  </thead>\n",
       "  <tbody>\n",
       "    <tr>\n",
       "      <th>0</th>\n",
       "      <td>42585</td>\n",
       "    </tr>\n",
       "  </tbody>\n",
       "</table>\n",
       "</div>"
      ],
      "text/plain": [
       "   uniqExact(user_id)\n",
       "0               42585"
      ]
     },
     "execution_count": 3,
     "metadata": {},
     "output_type": "execute_result"
    }
   ],
   "source": [
    "# посмотрим сколько всего уникальных пользователей пользовались приложением в указаный период\n",
    "query = \"\"\"\n",
    "SELECT uniqExact(user_id)\n",
    "FROM simulator_20220920.feed_actions\n",
    "WHERE toDate(time) BETWEEN '2022-08-27' AND '2022-09-02'\n",
    "\"\"\"\n",
    "\n",
    "ph.read_clickhouse(query, connection=connection)"
   ]
  },
  {
   "cell_type": "markdown",
   "id": "1aad7292-e3ce-4ef8-bc34-40e0411e4fc7",
   "metadata": {},
   "source": [
    "Значит в каждой из 5 групп должно быть приблизительно по 8500 пользователей "
   ]
  },
  {
   "cell_type": "code",
   "execution_count": 4,
   "id": "1f3d1d42-61da-4cec-b6f1-0c0d38a9e9e8",
   "metadata": {},
   "outputs": [
    {
     "data": {
      "text/html": [
       "<div>\n",
       "<style scoped>\n",
       "    .dataframe tbody tr th:only-of-type {\n",
       "        vertical-align: middle;\n",
       "    }\n",
       "\n",
       "    .dataframe tbody tr th {\n",
       "        vertical-align: top;\n",
       "    }\n",
       "\n",
       "    .dataframe thead th {\n",
       "        text-align: right;\n",
       "    }\n",
       "</style>\n",
       "<table border=\"1\" class=\"dataframe\">\n",
       "  <thead>\n",
       "    <tr style=\"text-align: right;\">\n",
       "      <th></th>\n",
       "      <th>exp_group</th>\n",
       "      <th>user_id</th>\n",
       "      <th>likes</th>\n",
       "      <th>views</th>\n",
       "      <th>ctr</th>\n",
       "    </tr>\n",
       "  </thead>\n",
       "  <tbody>\n",
       "    <tr>\n",
       "      <th>0</th>\n",
       "      <td>3</td>\n",
       "      <td>115383</td>\n",
       "      <td>11</td>\n",
       "      <td>36</td>\n",
       "      <td>0.305556</td>\n",
       "    </tr>\n",
       "    <tr>\n",
       "      <th>1</th>\n",
       "      <td>3</td>\n",
       "      <td>123580</td>\n",
       "      <td>15</td>\n",
       "      <td>92</td>\n",
       "      <td>0.163043</td>\n",
       "    </tr>\n",
       "    <tr>\n",
       "      <th>2</th>\n",
       "      <td>2</td>\n",
       "      <td>131473</td>\n",
       "      <td>26</td>\n",
       "      <td>148</td>\n",
       "      <td>0.175676</td>\n",
       "    </tr>\n",
       "    <tr>\n",
       "      <th>3</th>\n",
       "      <td>2</td>\n",
       "      <td>23985</td>\n",
       "      <td>12</td>\n",
       "      <td>66</td>\n",
       "      <td>0.181818</td>\n",
       "    </tr>\n",
       "    <tr>\n",
       "      <th>4</th>\n",
       "      <td>2</td>\n",
       "      <td>24523</td>\n",
       "      <td>17</td>\n",
       "      <td>120</td>\n",
       "      <td>0.141667</td>\n",
       "    </tr>\n",
       "  </tbody>\n",
       "</table>\n",
       "</div>"
      ],
      "text/plain": [
       "   exp_group  user_id  likes  views       ctr\n",
       "0          3   115383     11     36  0.305556\n",
       "1          3   123580     15     92  0.163043\n",
       "2          2   131473     26    148  0.175676\n",
       "3          2    23985     12     66  0.181818\n",
       "4          2    24523     17    120  0.141667"
      ]
     },
     "execution_count": 4,
     "metadata": {},
     "output_type": "execute_result"
    }
   ],
   "source": [
    "# посмотрим данные по 2 и 3 группе\n",
    "query = \"\"\"\n",
    "SELECT exp_group, \n",
    "    user_id,\n",
    "    sum(action = 'like') as likes,\n",
    "    sum(action = 'view') as views,\n",
    "    likes/views as ctr\n",
    "FROM simulator_20220920.feed_actions \n",
    "WHERE toDate(time) between '2022-08-27' and '2022-09-02'\n",
    "    and exp_group in (2,3)\n",
    "GROUP BY exp_group, user_id\n",
    "\"\"\"\n",
    "\n",
    "users = ph.read_clickhouse(query, connection=connection)\n",
    "users.head()"
   ]
  },
  {
   "cell_type": "code",
   "execution_count": 5,
   "id": "1f0a963d-8623-408f-8ac8-e1bc6a71f4ee",
   "metadata": {},
   "outputs": [
    {
     "data": {
      "text/plain": [
       "exp_group\n",
       "2    8480\n",
       "3    8569\n",
       "Name: user_id, dtype: int64"
      ]
     },
     "execution_count": 5,
     "metadata": {},
     "output_type": "execute_result"
    }
   ],
   "source": [
    "# количество пользователей действительно около 8500 в каждой группе\n",
    "users.groupby('exp_group').user_id.count()"
   ]
  },
  {
   "cell_type": "code",
   "execution_count": 6,
   "id": "3e970bcf-8ba5-4a84-8127-9bd91e0154a1",
   "metadata": {},
   "outputs": [
    {
     "data": {
      "text/plain": [
       "<AxesSubplot:xlabel='ctr', ylabel='Count'>"
      ]
     },
     "execution_count": 6,
     "metadata": {},
     "output_type": "execute_result"
    },
    {
     "data": {
      "image/png": "[encoded data removed]",
      "text/plain": [
       "<Figure size 842.4x595.44 with 1 Axes>"
      ]
     },
     "metadata": {},
     "output_type": "display_data"
    }
   ],
   "source": [
    "# посмотрим распределение по ключевой метрике на графике для двух групп\n",
    "sns.set(rc={'figure.figsize':(11.7,8.27)})\n",
    "\n",
    "sns.histplot(data = users,\n",
    "            x='ctr',\n",
    "            hue='exp_group',\n",
    "            alpha=0.5,\n",
    "            kde=False)"
   ]
  },
  {
   "cell_type": "markdown",
   "id": "c865fdf4-dbe4-4593-af67-42f57ae3b61f",
   "metadata": {},
   "source": [
    "Глядя на график кажется, что распределение по CTR примерно одинаковое"
   ]
  },
  {
   "cell_type": "markdown",
   "id": "b6901454-0d3e-4971-b56a-b09dfbcf1ac9",
   "metadata": {},
   "source": [
    "#### Теперь проведем симуляцию 10000 А/А-тестов"
   ]
  },
  {
   "cell_type": "markdown",
   "id": "f962abb6-f1b2-431b-85f8-15a03a68d914",
   "metadata": {},
   "source": [
    "За нулевую гипотезу принимаем, что значения CTR в выборках равны"
   ]
  },
  {
   "cell_type": "code",
   "execution_count": 7,
   "id": "ea754f86-1a97-49b7-974c-0ee4ac2deb2b",
   "metadata": {},
   "outputs": [],
   "source": [
    "# рассчитаем t-критерий для подвыборок из двух групп\n",
    "p_values = [stats.ttest_ind(users[users.exp_group == 2].ctr.sample(500),\n",
    "                            users[users.exp_group == 3].ctr.sample(500),\n",
    "                            equal_var=False)[1] for i in range(10000)]"
   ]
  },
  {
   "cell_type": "code",
   "execution_count": 8,
   "id": "a73d3aed-4a93-4890-8229-7ef74f330a5f",
   "metadata": {},
   "outputs": [
    {
     "data": {
      "text/plain": [
       "<AxesSubplot:ylabel='Count'>"
      ]
     },
     "execution_count": 8,
     "metadata": {},
     "output_type": "execute_result"
    },
    {
     "data": {
      "image/png": "[encoded data removed]",
      "text/plain": [
       "<Figure size 842.4x595.44 with 1 Axes>"
      ]
     },
     "metadata": {},
     "output_type": "display_data"
    }
   ],
   "source": [
    "# построим гистограмму распределения получившихся 10000 p-values\n",
    "sns.histplot(p_values)"
   ]
  },
  {
   "cell_type": "markdown",
   "id": "0e91f079-a14d-4cdb-aff2-1c01da08e7a2",
   "metadata": {},
   "source": [
    "#### Посчитаем, какой процент p-values оказался меньше либо равен 0.05"
   ]
  },
  {
   "cell_type": "code",
   "execution_count": 9,
   "id": "67f110d3-e1a3-41a3-b9a3-9ac9daf818aa",
   "metadata": {},
   "outputs": [
    {
     "name": "stdout",
     "output_type": "stream",
     "text": [
      "Меньше либо равными 0.05 оказалось 4.9% p-values\n"
     ]
    }
   ],
   "source": [
    "count = 0\n",
    "\n",
    "for value in p_values:\n",
    "    if value <= 0.05:\n",
    "        count += 1\n",
    "percent = round(count / len(p_values) * 100, 2)\n",
    "\n",
    "print(f'Меньше либо равными 0.05 оказалось {percent}% p-values')"
   ]
  },
  {
   "cell_type": "markdown",
   "id": "3bb15281-1252-4f90-a5f0-88a8f33496b9",
   "metadata": {},
   "source": [
    "Выходит, что значимые отклонения мы получили меньше чем в 5% случаев. Значит можем считать, что система сплитования работает корректно "
   ]
  },
  {
   "cell_type": "markdown",
   "id": "440d47c6-9146-44dd-a320-bcf9360b5c40",
   "metadata": {},
   "source": [
    "# Часть 2: A/B тест"
   ]
  },
  {
   "cell_type": "markdown",
   "id": "ecfa98dd-b938-4013-a930-cb397c90c1d1",
   "metadata": {},
   "source": [
    "Нужно проверить результаты эксперимента, который проходил с 2022-09-03 по 2022-09-09 включительно. Для эксперимента были задействованы 2 и 1 группы. \n",
    "\n",
    "В группе 2 был использован один из новых алгоритмов рекомендации постов, группа 1 использовалась в качестве контроля. \n",
    "\n",
    "Основная гипотеза заключается в том, что новый алгоритм во 2-й группе приведет к увеличению CTR. "
   ]
  },
  {
   "cell_type": "markdown",
   "id": "a33f7e80-8061-43c0-82a2-20c4bbe333de",
   "metadata": {},
   "source": [
    "### A/A тест"
   ]
  },
  {
   "cell_type": "code",
   "execution_count": 3,
   "id": "eb6daec0-d7d6-462c-9ede-c22bcf2a6bd1",
   "metadata": {},
   "outputs": [
    {
     "data": {
      "text/plain": [
       "<AxesSubplot:xlabel='ctr', ylabel='Count'>"
      ]
     },
     "execution_count": 3,
     "metadata": {},
     "output_type": "execute_result"
    },
    {
     "data": {
      "image/png": "[encoded data removed]",
      "text/plain": [
       "<Figure size 842.4x595.44 with 1 Axes>"
      ]
     },
     "metadata": {},
     "output_type": "display_data"
    }
   ],
   "source": [
    "# посмотрим на графике данные по 2 и 1 группе до начала эксперимента, чтобы убедиться, что распределение CTR было одинаковым \n",
    "query = \"\"\"\n",
    "SELECT exp_group, \n",
    "    user_id,\n",
    "    sum(action = 'like') as likes,\n",
    "    sum(action = 'view') as views,\n",
    "    likes/views as ctr\n",
    "FROM simulator_20220920.feed_actions \n",
    "WHERE toDate(time) between '2022-08-27' and '2022-09-02'\n",
    "    and exp_group in (2,1)\n",
    "GROUP BY exp_group, user_id\n",
    "\"\"\"\n",
    "\n",
    "users_aa = ph.read_clickhouse(query, connection=connection)\n",
    "\n",
    "sns.set(rc={'figure.figsize':(11.7,8.27)}) # поменяем масштаб графика\n",
    "\n",
    "sns.histplot(data = users_aa,\n",
    "            x='ctr',\n",
    "            hue='exp_group',\n",
    "            palette=['g','y'],\n",
    "            alpha=0.5,\n",
    "            kde=False)"
   ]
  },
  {
   "cell_type": "code",
   "execution_count": 4,
   "id": "070ca463-9e95-4ffb-a0ac-9d0de4953b88",
   "metadata": {},
   "outputs": [
    {
     "data": {
      "text/plain": [
       "exp_group\n",
       "1    8537\n",
       "2    8480\n",
       "Name: user_id, dtype: int64"
      ]
     },
     "execution_count": 4,
     "metadata": {},
     "output_type": "execute_result"
    }
   ],
   "source": [
    "# кол-во пользователей в группах приблизительно одинаковое\n",
    "users_aa.groupby('exp_group').user_id.count()"
   ]
  },
  {
   "cell_type": "code",
   "execution_count": 5,
   "id": "a92a4fac-b144-4393-a9d3-da5fd768b138",
   "metadata": {},
   "outputs": [
    {
     "data": {
      "text/plain": [
       "Ttest_indResult(statistic=-2.017208642179426, pvalue=0.043689417475740205)"
      ]
     },
     "execution_count": 5,
     "metadata": {},
     "output_type": "execute_result"
    }
   ],
   "source": [
    "stats.ttest_ind(users_aa[users_aa.exp_group == 1].ctr,\n",
    "                users_aa[users_aa.exp_group == 2].ctr,\n",
    "                equal_var=False)"
   ]
  },
  {
   "cell_type": "markdown",
   "id": "80a5e4f3-84d9-47dd-b951-0cf655b59a01",
   "metadata": {},
   "source": [
    "И по графику, и по результату t-теста можем сделать вывод, что средний CTR в выборках одинаковый"
   ]
  },
  {
   "cell_type": "markdown",
   "id": "22ddf41e-7e50-44ce-af8a-bf9d6e0e9642",
   "metadata": {},
   "source": [
    "### A/B тест"
   ]
  },
  {
   "cell_type": "code",
   "execution_count": 6,
   "id": "d7652766-bcb2-470a-ae17-9cf079fc1721",
   "metadata": {},
   "outputs": [],
   "source": [
    "# выгружаем данные за период проведения теста\n",
    "query = \"\"\"\n",
    "SELECT exp_group, \n",
    "    user_id,\n",
    "    sum(action = 'like') as likes,\n",
    "    sum(action = 'view') as views,\n",
    "    likes/views as ctr\n",
    "FROM simulator_20220920.feed_actions \n",
    "WHERE toDate(time) between '2022-09-03' and '2022-09-09'\n",
    "    and exp_group in (1,2)\n",
    "GROUP BY exp_group, user_id\n",
    "\"\"\"\n",
    "\n",
    "users = ph.read_clickhouse(query, connection=connection)"
   ]
  },
  {
   "cell_type": "markdown",
   "id": "e69c9029-56c1-48db-be41-1e57336267f0",
   "metadata": {},
   "source": [
    "Сравним средние значения CTR до и во время эксперимента"
   ]
  },
  {
   "cell_type": "code",
   "execution_count": 7,
   "id": "a1e39dd2-7c0b-4289-97a6-4b53d9acc6da",
   "metadata": {},
   "outputs": [
    {
     "name": "stdout",
     "output_type": "stream",
     "text": [
      "Средний CTR в контрольной группе: 0.216\n",
      "Средний CTR в экспериментальной группе: 0.218\n"
     ]
    }
   ],
   "source": [
    "# CTR в группах до начала эксперимента\n",
    "print('Средний CTR в контрольной группе:', round(users_aa[users_aa.exp_group == 1].ctr.mean(), 3))\n",
    "print('Средний CTR в экспериментальной группе:', round(users_aa[users_aa.exp_group == 2].ctr.mean(), 3))"
   ]
  },
  {
   "cell_type": "code",
   "execution_count": 8,
   "id": "f1745973-1443-4e31-9d15-01fcad4842ea",
   "metadata": {},
   "outputs": [
    {
     "name": "stdout",
     "output_type": "stream",
     "text": [
      "Средний CTR в контрольной группе: 0.216\n",
      "Средний CTR в экспериментальной группе: 0.214\n"
     ]
    }
   ],
   "source": [
    "# CTR в группах во время эксперимента\n",
    "print('Средний CTR в контрольной группе:', round(users[users.exp_group == 1].ctr.mean(), 3))\n",
    "print('Средний CTR в экспериментальной группе:', round(users[users.exp_group == 2].ctr.mean(), 3))"
   ]
  },
  {
   "cell_type": "markdown",
   "id": "25689733-d1a2-4644-a245-359b9fb67bf7",
   "metadata": {},
   "source": [
    "На первый взгляд значительных изменений нет"
   ]
  },
  {
   "cell_type": "code",
   "execution_count": 9,
   "id": "5ff1c9f0-5cc3-4535-8cb1-827f0d9d5bcc",
   "metadata": {},
   "outputs": [
    {
     "data": {
      "text/plain": [
       "<AxesSubplot:xlabel='ctr', ylabel='Count'>"
      ]
     },
     "execution_count": 9,
     "metadata": {},
     "output_type": "execute_result"
    },
    {
     "data": {
      "image/png": "[encoded data removed]",
      "text/plain": [
       "<Figure size 842.4x595.44 with 1 Axes>"
      ]
     },
     "metadata": {},
     "output_type": "display_data"
    }
   ],
   "source": [
    "# посмотрим распределение по ключевой метрике на графике для двух групп\n",
    "sns.histplot(data = users,\n",
    "            x='ctr',\n",
    "            hue='exp_group',\n",
    "            palette=['g','y'],\n",
    "            alpha=0.5,\n",
    "            kde=False)"
   ]
  },
  {
   "cell_type": "markdown",
   "id": "9fcabddf-4932-44da-a38a-5f6792220f84",
   "metadata": {},
   "source": [
    "На графике видны явные различия. В экпериментальной группе получили бимодальное распределение – значит часть пользователей стала лайкать посты чаще, другая реже. Проверим результаты с помощью тестов"
   ]
  },
  {
   "cell_type": "markdown",
   "id": "e12909b8-1769-4b3d-9bdd-373c2e251f2e",
   "metadata": {},
   "source": [
    "#### Проверим с помощью t-теста"
   ]
  },
  {
   "cell_type": "markdown",
   "id": "c21d7aff-2901-4993-b593-6020edf4d87b",
   "metadata": {},
   "source": [
    "Из-за бимодального распределения в экспериментальной группе не выполняется условие для t-теста. Но все же посмотрим на результат\n",
    "\n",
    "За нулевую гипотезу принимаем равенство средних"
   ]
  },
  {
   "cell_type": "code",
   "execution_count": 10,
   "id": "6df8f56d-e2c8-4b5b-b313-c852ea845692",
   "metadata": {},
   "outputs": [
    {
     "data": {
      "text/plain": [
       "Ttest_indResult(statistic=0.7094392041270486, pvalue=0.4780623130874935)"
      ]
     },
     "execution_count": 10,
     "metadata": {},
     "output_type": "execute_result"
    }
   ],
   "source": [
    "stats.ttest_ind(users[users.exp_group == 1].ctr,\n",
    "                users[users.exp_group == 2].ctr,\n",
    "                equal_var=False)"
   ]
  },
  {
   "cell_type": "markdown",
   "id": "dd61616c-59de-433f-b0f5-0cf905b5d52b",
   "metadata": {},
   "source": [
    "По результатам t-теста мы не можем отклонить нулевую гипотезу и высока вероятность того, что средний CTR в выборках отличаться не будет"
   ]
  },
  {
   "cell_type": "markdown",
   "id": "99838cbb-6c5a-43dd-946c-40f8dfd62dfd",
   "metadata": {},
   "source": [
    "#### Сравним результат с тестом Манна-Уитни"
   ]
  },
  {
   "cell_type": "code",
   "execution_count": 11,
   "id": "a84b98ca-55ee-4e1e-860b-c2b3c048d7af",
   "metadata": {},
   "outputs": [
    {
     "data": {
      "text/plain": [
       "MannwhitneyuResult(statistic=56601260.5, pvalue=6.0376484617779035e-56)"
      ]
     },
     "execution_count": 11,
     "metadata": {},
     "output_type": "execute_result"
    }
   ],
   "source": [
    "stats.mannwhitneyu(users[users.exp_group == 1].ctr, \n",
    "                   users[users.exp_group == 2].ctr,\n",
    "                   alternative = 'two-sided')"
   ]
  },
  {
   "cell_type": "markdown",
   "id": "bd08a1d4-d9dc-41cb-8c43-e4afbdcddc1d",
   "metadata": {},
   "source": [
    "Тест Манна-Уитни в отличие от t-теста видит значимые различия"
   ]
  },
  {
   "cell_type": "markdown",
   "id": "cff65667-3191-41bc-878f-24b2402a66b9",
   "metadata": {},
   "source": [
    "#### Проверим результаты на сглаженном CTR"
   ]
  },
  {
   "cell_type": "code",
   "execution_count": 12,
   "id": "772994fd-f543-434d-88a4-339270cad84d",
   "metadata": {},
   "outputs": [],
   "source": [
    "# функция для сглаженного CTR\n",
    "def get_smothed_ctr(user_likes, user_views, global_ctr, alpha):\n",
    "    smothed_ctr = (user_likes + alpha * global_ctr) / (user_views + alpha)\n",
    "    return smothed_ctr"
   ]
  },
  {
   "cell_type": "code",
   "execution_count": 13,
   "id": "551db756-ebd1-4a20-9a02-afd9769c793f",
   "metadata": {},
   "outputs": [],
   "source": [
    "# считаем общегрупповой CTR по контрольной и экспериментальной группе\n",
    "global_ctr_1 = users[users.exp_group == 1].likes.sum()/users[users.exp_group == 1].views.sum()\n",
    "global_ctr_2 = users[users.exp_group == 2].likes.sum()/users[users.exp_group == 2].views.sum()"
   ]
  },
  {
   "cell_type": "code",
   "execution_count": 14,
   "id": "8cc05dfc-aa8d-4e73-aff6-e5788d50a569",
   "metadata": {},
   "outputs": [],
   "source": [
    "group_1 = users[users.exp_group == 1].copy()\n",
    "group_2 = users[users.exp_group == 2].copy()"
   ]
  },
  {
   "cell_type": "code",
   "execution_count": 15,
   "id": "5e750c0e-9376-429f-9982-63ca70039467",
   "metadata": {},
   "outputs": [
    {
     "data": {
      "text/plain": [
       "<AxesSubplot:xlabel='smothed_ctr', ylabel='Count'>"
      ]
     },
     "execution_count": 15,
     "metadata": {},
     "output_type": "execute_result"
    },
    {
     "data": {
      "image/png": "[encoded data removed]",
      "text/plain": [
       "<Figure size 842.4x595.44 with 1 Axes>"
      ]
     },
     "metadata": {},
     "output_type": "display_data"
    }
   ],
   "source": [
    "# применим функцию сглаживания\n",
    "group_1['smothed_ctr'] = users.apply(\n",
    "    lambda x: get_smothed_ctr(x['likes'], x['views'], global_ctr_1, 5), axis=1)\n",
    "group_2['smothed_ctr'] = users.apply(\n",
    "    lambda x: get_smothed_ctr(x['likes'], x['views'], global_ctr_2, 5), axis=1)\n",
    "\n",
    "# посмотрим на график сглаженного CTR\n",
    "sns.histplot(group_1.smothed_ctr, color='g',\n",
    "             kde = False, bins=30)\n",
    "sns.histplot(group_2.smothed_ctr, color='y',\n",
    "             kde = False, bins=30)"
   ]
  },
  {
   "cell_type": "markdown",
   "id": "e4fd790c-fbe6-4022-a355-e4575fa34baf",
   "metadata": {},
   "source": [
    "#### Проведем t-тест и тест Манна-Уитни на сглаженном CTR"
   ]
  },
  {
   "cell_type": "code",
   "execution_count": 16,
   "id": "794b0233-d051-461d-9522-e583541b40c4",
   "metadata": {},
   "outputs": [
    {
     "data": {
      "text/plain": [
       "Ttest_indResult(statistic=2.2841320431616983, pvalue=0.0223769815558559)"
      ]
     },
     "execution_count": 16,
     "metadata": {},
     "output_type": "execute_result"
    }
   ],
   "source": [
    "stats.ttest_ind(group_1['smothed_ctr'],\n",
    "                group_2['smothed_ctr'],\n",
    "                equal_var=False)"
   ]
  },
  {
   "cell_type": "markdown",
   "id": "5b1b6dea-05b8-46b3-adcf-c7ad16263015",
   "metadata": {},
   "source": [
    "На сглаженном CTR t-тест позволяет отклонить нулевую гипотезу"
   ]
  },
  {
   "cell_type": "code",
   "execution_count": 17,
   "id": "e690dc96-0817-4ef8-b978-2ed69712ffe2",
   "metadata": {},
   "outputs": [
    {
     "data": {
      "text/plain": [
       "MannwhitneyuResult(statistic=56925125.0, pvalue=1.6163964114270227e-61)"
      ]
     },
     "execution_count": 17,
     "metadata": {},
     "output_type": "execute_result"
    }
   ],
   "source": [
    "stats.mannwhitneyu(group_1['smothed_ctr'], \n",
    "                   group_2['smothed_ctr'],\n",
    "                   alternative = 'two-sided')"
   ]
  },
  {
   "cell_type": "markdown",
   "id": "2061b944-86e5-48ed-b526-250b01728607",
   "metadata": {},
   "source": [
    "#### Пуассоновский бутстреп"
   ]
  },
  {
   "cell_type": "code",
   "execution_count": 18,
   "id": "f8e094d0-6a93-4f31-ba8d-61a9b672cb0a",
   "metadata": {},
   "outputs": [],
   "source": [
    "# функция бутстрепа\n",
    "def bootstrap(likes1, views1, likes2, views2, n_bootstrap=2000):\n",
    "\n",
    "    poisson_bootstraps1 = stats.poisson(1).rvs(\n",
    "        (n_bootstrap, len(likes1))).astype(np.int64)\n",
    "\n",
    "    poisson_bootstraps2 = stats.poisson(1).rvs(\n",
    "            (n_bootstrap, len(likes2))).astype(np.int64)\n",
    "    \n",
    "    globalCTR1 = (poisson_bootstraps1*likes1).sum(axis=1)/(poisson_bootstraps1*views1).sum(axis=1)\n",
    "    \n",
    "    globalCTR2 = (poisson_bootstraps2*likes2).sum(axis=1)/(poisson_bootstraps2*views2).sum(axis=1)\n",
    "\n",
    "    return globalCTR1, globalCTR2"
   ]
  },
  {
   "cell_type": "code",
   "execution_count": 19,
   "id": "33cf27bc-085a-47b2-8102-7af6e6dd8198",
   "metadata": {},
   "outputs": [
    {
     "data": {
      "text/plain": [
       "<AxesSubplot:ylabel='Count'>"
      ]
     },
     "execution_count": 19,
     "metadata": {},
     "output_type": "execute_result"
    },
    {
     "data": {
      "image/png": "[encoded data removed]",
      "text/plain": [
       "<Figure size 842.4x595.44 with 1 Axes>"
      ]
     },
     "metadata": {},
     "output_type": "display_data"
    }
   ],
   "source": [
    "likes1 = users[users.exp_group == 1].likes.to_numpy()\n",
    "views1 = users[users.exp_group == 1].views.to_numpy()\n",
    "likes2 = users[users.exp_group == 2].likes.to_numpy()\n",
    "views2 = users[users.exp_group == 2].views.to_numpy()\n",
    "\n",
    "ctr1, ctr2 = bootstrap(likes1, views1, likes2, views2)\n",
    "\n",
    "sns.histplot(ctr1, color='g')\n",
    "sns.histplot(ctr2, color='y')"
   ]
  },
  {
   "cell_type": "code",
   "execution_count": 20,
   "id": "3ef53848-12bd-4984-9130-296190220e01",
   "metadata": {},
   "outputs": [
    {
     "data": {
      "text/plain": [
       "<AxesSubplot:ylabel='Count'>"
      ]
     },
     "execution_count": 20,
     "metadata": {},
     "output_type": "execute_result"
    },
    {
     "data": {
      "image/png": "[encoded data removed]",
      "text/plain": [
       "<Figure size 842.4x595.44 with 1 Axes>"
      ]
     },
     "metadata": {},
     "output_type": "display_data"
    }
   ],
   "source": [
    "# посмотрим распределение разницы между глобальными CTR\n",
    "sns.histplot(ctr2 - ctr1)"
   ]
  },
  {
   "cell_type": "markdown",
   "id": "b45526e5-4846-4513-87b6-c1ecde021db0",
   "metadata": {},
   "source": [
    "На графиках видно, что контрольная группа показала значительно лучший результат по CTR, чем экспериментальная группа \n",
    "\n",
    "Гистограмма разности не пересекла 0, значит одна группа строго больше другой"
   ]
  },
  {
   "cell_type": "markdown",
   "id": "e24c7ba6-d3a9-421a-bc6f-13836c19e5cf",
   "metadata": {},
   "source": [
    "#### Тесты поверх бакетного преобразования"
   ]
  },
  {
   "cell_type": "code",
   "execution_count": 21,
   "id": "06694673-56d5-42b4-a26e-3a44889630f9",
   "metadata": {},
   "outputs": [
    {
     "data": {
      "text/html": [
       "<div>\n",
       "<style scoped>\n",
       "    .dataframe tbody tr th:only-of-type {\n",
       "        vertical-align: middle;\n",
       "    }\n",
       "\n",
       "    .dataframe tbody tr th {\n",
       "        vertical-align: top;\n",
       "    }\n",
       "\n",
       "    .dataframe thead th {\n",
       "        text-align: right;\n",
       "    }\n",
       "</style>\n",
       "<table border=\"1\" class=\"dataframe\">\n",
       "  <thead>\n",
       "    <tr style=\"text-align: right;\">\n",
       "      <th></th>\n",
       "      <th>exp_group</th>\n",
       "      <th>bucket</th>\n",
       "      <th>bucket_ctr</th>\n",
       "    </tr>\n",
       "  </thead>\n",
       "  <tbody>\n",
       "    <tr>\n",
       "      <th>0</th>\n",
       "      <td>1</td>\n",
       "      <td>0</td>\n",
       "      <td>0.196481</td>\n",
       "    </tr>\n",
       "    <tr>\n",
       "      <th>1</th>\n",
       "      <td>2</td>\n",
       "      <td>0</td>\n",
       "      <td>0.194262</td>\n",
       "    </tr>\n",
       "    <tr>\n",
       "      <th>2</th>\n",
       "      <td>1</td>\n",
       "      <td>1</td>\n",
       "      <td>0.211887</td>\n",
       "    </tr>\n",
       "    <tr>\n",
       "      <th>3</th>\n",
       "      <td>2</td>\n",
       "      <td>1</td>\n",
       "      <td>0.215328</td>\n",
       "    </tr>\n",
       "    <tr>\n",
       "      <th>4</th>\n",
       "      <td>1</td>\n",
       "      <td>2</td>\n",
       "      <td>0.206271</td>\n",
       "    </tr>\n",
       "  </tbody>\n",
       "</table>\n",
       "</div>"
      ],
      "text/plain": [
       "   exp_group  bucket  bucket_ctr\n",
       "0          1       0    0.196481\n",
       "1          2       0    0.194262\n",
       "2          1       1    0.211887\n",
       "3          2       1    0.215328\n",
       "4          1       2    0.206271"
      ]
     },
     "execution_count": 21,
     "metadata": {},
     "output_type": "execute_result"
    }
   ],
   "source": [
    "# поделим пользователей на 50 бакетов сразу в кликхаусе, приблизительно по 200 пользователей\n",
    "query = \"\"\"\n",
    "\n",
    "SELECT exp_group, bucket,\n",
    "    sum(likes)/sum(views) as bucket_ctr\n",
    "FROM (SELECT exp_group, \n",
    "        xxHash64(user_id)%50 as bucket,\n",
    "        user_id,\n",
    "        sum(action = 'like') as likes,\n",
    "        sum(action = 'view') as views,\n",
    "        likes/views as ctr\n",
    "    FROM {db}.feed_actions \n",
    "    WHERE toDate(time) between '2022-09-03' and '2022-09-09'\n",
    "        and exp_group in (1,2)\n",
    "    GROUP BY exp_group, bucket, user_id)\n",
    "GROUP BY exp_group, bucket\n",
    "\"\"\"\n",
    "\n",
    "users = ph.read_clickhouse(query, connection=connection)\n",
    "users.head()"
   ]
  },
  {
   "cell_type": "markdown",
   "id": "faf9ff02-8daf-4ab2-987a-fe1f6a6c09cc",
   "metadata": {},
   "source": [
    "#### Проведем тест Манна-Уитни и t-тест поверх бакетного преобразования"
   ]
  },
  {
   "cell_type": "code",
   "execution_count": 22,
   "id": "8a7682a4-291a-4c09-b490-3a9a8154d616",
   "metadata": {},
   "outputs": [
    {
     "data": {
      "text/plain": [
       "MannwhitneyuResult(statistic=1995.0, pvalue=2.859963936492646e-07)"
      ]
     },
     "execution_count": 22,
     "metadata": {},
     "output_type": "execute_result"
    }
   ],
   "source": [
    "stats.mannwhitneyu(users[users.exp_group == 1].bucket_ctr, \n",
    "                   users[users.exp_group == 2].bucket_ctr,\n",
    "                   alternative = 'two-sided')"
   ]
  },
  {
   "cell_type": "code",
   "execution_count": 23,
   "id": "174cee6b-ed52-42bb-98a5-9832964f4ea8",
   "metadata": {},
   "outputs": [
    {
     "data": {
      "text/plain": [
       "Ttest_indResult(statistic=5.668234732053979, pvalue=3.4455951649945907e-07)"
      ]
     },
     "execution_count": 23,
     "metadata": {},
     "output_type": "execute_result"
    }
   ],
   "source": [
    "stats.ttest_ind(users[users.exp_group == 1].bucket_ctr,\n",
    "                users[users.exp_group == 2].bucket_ctr,\n",
    "                equal_var=False)"
   ]
  },
  {
   "cell_type": "markdown",
   "id": "95c5ae03-70e1-4110-ad7f-4bccbf6347a2",
   "metadata": {},
   "source": [
    "Оба теста показывают различия"
   ]
  },
  {
   "cell_type": "code",
   "execution_count": 24,
   "id": "6dd3e77d-29d0-433a-ba17-56efc930bbcc",
   "metadata": {},
   "outputs": [
    {
     "data": {
      "text/plain": [
       "<AxesSubplot:xlabel='bucket_ctr', ylabel='Count'>"
      ]
     },
     "execution_count": 24,
     "metadata": {},
     "output_type": "execute_result"
    },
    {
     "data": {
      "image/png": "[encoded data removed]",
      "text/plain": [
       "<Figure size 842.4x595.44 with 1 Axes>"
      ]
     },
     "metadata": {},
     "output_type": "display_data"
    }
   ],
   "source": [
    "# на графике видно, что CTR экспериментной группы ниже CTR контрольной\n",
    "sns.histplot(data=users,\n",
    "            x='bucket_ctr',\n",
    "            hue='exp_group',\n",
    "            palette=['g', 'y'],\n",
    "            alpha=0.5,\n",
    "            kde=False,\n",
    "            bins=30)"
   ]
  },
  {
   "cell_type": "markdown",
   "id": "91d2b4a9-2726-4112-bf64-865bd42e25c8",
   "metadata": {
    "tags": []
   },
   "source": [
    "#### Вывод:\n",
    "\n",
    "Все тесты, кроме t-теста показали значимые различия (проблема скорее всеро в ненормальном распределении). Также различия хорошо видны на графиках, и не в пользу нового алгоритма, там средний CTR стал ниже.\n",
    "\n",
    "Но также на графиках видно, что экспериментальная группа как бы поделилась на две: для одной части алгоритм сработал и они стали больше лайкать, вторая часть наоборот взаимодействовала с постами меньше. Нужно выяснить почему так произошло и в чем отличия между этими подгруппами пользователей и доработать алгоритм. Сейчас его раскатывать на всех пользователей не стоит  "
   ]
  },
  {
   "cell_type": "markdown",
   "id": "846abe21-6441-450e-b170-e4ece82c92ff",
   "metadata": {
    "tags": []
   },
   "source": [
    "# Часть 3: A/B тест методом линеаризованных лайков"
   ]
  },
  {
   "cell_type": "markdown",
   "id": "04a957e6-7506-4ef6-991c-adeca111b0cf",
   "metadata": {},
   "source": [
    "Идея метода заключается в следующем:\n",
    "\n",
    "Вместо того, чтобы заталкивать в тест «поюзерные» CTR, можно сконструировать другую метрику и анализировать ее, но при этом гарантируется (в отличие от сглаженного CTR), что если тест на этой другой метрике «прокрасится» и увидит изменения, значит изменения есть и в метрике исходной (то есть в лайках на пользователя и в пользовательских CTR\n",
    "\n",
    "При этом метод сам по себе очень прост. Что это за метрика такая?\n",
    "\n",
    "- Считаем общий CTR в контрольной группе  𝐶𝑇𝑅𝑐𝑜𝑛𝑡𝑟𝑜𝑙=𝑠𝑢𝑚(𝑙𝑖𝑘𝑒𝑠)/𝑠𝑢𝑚(𝑣𝑖𝑒𝑤𝑠) \n",
    "- Посчитаем в обеих группах поюзерную метрику  𝑙𝑖𝑛𝑒𝑎𝑟𝑖𝑧𝑒𝑑_𝑙𝑖𝑘𝑒𝑠=𝑙𝑖𝑘𝑒𝑠−𝐶𝑇𝑅𝑐𝑜𝑛𝑡𝑟𝑜𝑙∗𝑣𝑖𝑒𝑤𝑠 \n",
    "- После чего сравним  t-тестом отличия в группах по метрике 𝑙𝑖𝑛𝑒𝑎𝑟𝑖𝑧𝑒𝑑_𝑙𝑖𝑘𝑒𝑠  \n",
    "\n",
    "Метод простой, гарантируется, что при приличном размере выборки (как у нас — подойдет) можно бесплатно увеличить чувствительность вашей метрики (или, по крайней мере, не сделать хуже).\n",
    "\n",
    "Задача:\n",
    "\n",
    "1. Проанализируйте тест между группами 0 и 3 по метрике линеаризованных лайков. Видно ли отличие? Стало ли 𝑝−𝑣𝑎𝑙𝑢𝑒 меньше?\n",
    "\n",
    "2. Проанализируйте тест между группами 1 и 2 по метрике линеаризованных лайков. Видно ли отличие? Стало ли 𝑝−𝑣𝑎𝑙𝑢𝑒 меньше?"
   ]
  },
  {
   "cell_type": "markdown",
   "id": "3fa7f203-bb25-4f40-93d0-282f064b587e",
   "metadata": {},
   "source": [
    "### Проанализируем тест между группами 1 и 2"
   ]
  },
  {
   "cell_type": "code",
   "execution_count": 134,
   "id": "0887e59c-a849-4188-98b3-2fe1b41e53d0",
   "metadata": {},
   "outputs": [],
   "source": [
    "# выгружаем данные за период проведения теста\n",
    "query = \"\"\"\n",
    "SELECT exp_group, \n",
    "    user_id,\n",
    "    sum(action = 'like') as likes,\n",
    "    sum(action = 'view') as views,\n",
    "    likes/views as ctr\n",
    "FROM simulator_20220920.feed_actions \n",
    "WHERE toDate(time) between '2022-09-03' and '2022-09-09'\n",
    "    and exp_group in (1,2)\n",
    "GROUP BY exp_group, user_id\n",
    "\"\"\"\n",
    "\n",
    "users = ph.read_clickhouse(query, connection=connection)"
   ]
  },
  {
   "cell_type": "markdown",
   "id": "c8aa3c24-d107-4b96-9bae-ffbeeb4eb35e",
   "metadata": {},
   "source": [
    "В качестве контрольной использовалась первая группа"
   ]
  },
  {
   "cell_type": "code",
   "execution_count": 135,
   "id": "91deb145-87ec-4eb0-978a-5ca13abe33c9",
   "metadata": {},
   "outputs": [
    {
     "name": "stdout",
     "output_type": "stream",
     "text": [
      "Общий CTR в контрольной группе: 0.208\n"
     ]
    }
   ],
   "source": [
    "# считаем общий CTR в контрольной группе  𝐶𝑇𝑅𝑐𝑜𝑛𝑡𝑟𝑜𝑙=𝑠𝑢𝑚(𝑙𝑖𝑘𝑒𝑠)/𝑠𝑢𝑚(𝑣𝑖𝑒𝑤𝑠)\n",
    "ctr_control = users[users.exp_group == 1].likes.sum() / users[users.exp_group == 1].views.sum()\n",
    "print('Общий CTR в контрольной группе:', round(ctr_control, 3))"
   ]
  },
  {
   "cell_type": "code",
   "execution_count": 136,
   "id": "927d22e2-0c30-48f2-b9af-ee3cb96697af",
   "metadata": {},
   "outputs": [
    {
     "data": {
      "text/html": [
       "<div>\n",
       "<style scoped>\n",
       "    .dataframe tbody tr th:only-of-type {\n",
       "        vertical-align: middle;\n",
       "    }\n",
       "\n",
       "    .dataframe tbody tr th {\n",
       "        vertical-align: top;\n",
       "    }\n",
       "\n",
       "    .dataframe thead th {\n",
       "        text-align: right;\n",
       "    }\n",
       "</style>\n",
       "<table border=\"1\" class=\"dataframe\">\n",
       "  <thead>\n",
       "    <tr style=\"text-align: right;\">\n",
       "      <th></th>\n",
       "      <th>exp_group</th>\n",
       "      <th>user_id</th>\n",
       "      <th>likes</th>\n",
       "      <th>views</th>\n",
       "      <th>ctr</th>\n",
       "      <th>linearized_likes</th>\n",
       "    </tr>\n",
       "  </thead>\n",
       "  <tbody>\n",
       "    <tr>\n",
       "      <th>0</th>\n",
       "      <td>1</td>\n",
       "      <td>109963</td>\n",
       "      <td>3</td>\n",
       "      <td>15</td>\n",
       "      <td>0.200000</td>\n",
       "      <td>-0.120402</td>\n",
       "    </tr>\n",
       "    <tr>\n",
       "      <th>1</th>\n",
       "      <td>1</td>\n",
       "      <td>26117</td>\n",
       "      <td>32</td>\n",
       "      <td>141</td>\n",
       "      <td>0.226950</td>\n",
       "      <td>2.668221</td>\n",
       "    </tr>\n",
       "    <tr>\n",
       "      <th>2</th>\n",
       "      <td>1</td>\n",
       "      <td>138232</td>\n",
       "      <td>18</td>\n",
       "      <td>73</td>\n",
       "      <td>0.246575</td>\n",
       "      <td>2.814043</td>\n",
       "    </tr>\n",
       "    <tr>\n",
       "      <th>3</th>\n",
       "      <td>1</td>\n",
       "      <td>26295</td>\n",
       "      <td>33</td>\n",
       "      <td>122</td>\n",
       "      <td>0.270492</td>\n",
       "      <td>7.620730</td>\n",
       "    </tr>\n",
       "    <tr>\n",
       "      <th>4</th>\n",
       "      <td>1</td>\n",
       "      <td>18392</td>\n",
       "      <td>7</td>\n",
       "      <td>32</td>\n",
       "      <td>0.218750</td>\n",
       "      <td>0.343142</td>\n",
       "    </tr>\n",
       "  </tbody>\n",
       "</table>\n",
       "</div>"
      ],
      "text/plain": [
       "   exp_group  user_id  likes  views       ctr  linearized_likes\n",
       "0          1   109963      3     15  0.200000         -0.120402\n",
       "1          1    26117     32    141  0.226950          2.668221\n",
       "2          1   138232     18     73  0.246575          2.814043\n",
       "3          1    26295     33    122  0.270492          7.620730\n",
       "4          1    18392      7     32  0.218750          0.343142"
      ]
     },
     "execution_count": 136,
     "metadata": {},
     "output_type": "execute_result"
    }
   ],
   "source": [
    "# посчитаем в обеих группах поюзерную метрику  𝑙𝑖𝑛𝑒𝑎𝑟𝑖𝑧𝑒𝑑_𝑙𝑖𝑘𝑒𝑠=𝑙𝑖𝑘𝑒𝑠−𝐶𝑇𝑅𝑐𝑜𝑛𝑡𝑟𝑜𝑙∗𝑣𝑖𝑒𝑤𝑠\n",
    "users['linearized_likes'] = users.likes - ctr_control * users.views \n",
    "users.head()"
   ]
  },
  {
   "cell_type": "code",
   "execution_count": 137,
   "id": "759c0572-6742-4e4c-a994-a79629c46245",
   "metadata": {},
   "outputs": [
    {
     "data": {
      "text/plain": [
       "Ttest_indResult(statistic=6.122579994775973, pvalue=9.439432187037712e-10)"
      ]
     },
     "execution_count": 137,
     "metadata": {},
     "output_type": "execute_result"
    }
   ],
   "source": [
    "# сравним  t-тестом отличия в группах по метрике 𝑙𝑖𝑛𝑒𝑎𝑟𝑖𝑧𝑒𝑑_𝑙𝑖𝑘𝑒𝑠\n",
    "stats.ttest_ind(users[users.exp_group == 1].linearized_likes,\n",
    "                users[users.exp_group == 2].linearized_likes,\n",
    "                equal_var=False)"
   ]
  },
  {
   "cell_type": "code",
   "execution_count": 138,
   "id": "28ad7570-b01c-43d1-a54e-62907618b2e6",
   "metadata": {},
   "outputs": [
    {
     "data": {
      "text/plain": [
       "Ttest_indResult(statistic=0.7094392041270486, pvalue=0.4780623130874935)"
      ]
     },
     "execution_count": 138,
     "metadata": {},
     "output_type": "execute_result"
    }
   ],
   "source": [
    "stats.ttest_ind(users[users.exp_group == 1].ctr,\n",
    "                users[users.exp_group == 2].ctr,\n",
    "                equal_var=False)"
   ]
  },
  {
   "cell_type": "markdown",
   "id": "56b82675-54bd-4567-b6fb-85991c696d3e",
   "metadata": {},
   "source": [
    "#### Вывод:\n",
    "\n",
    "p-value на линеаризированных лайках значительно уменьшился, что позволяет отвергнуть нулевую гипотезу о равенстве CTR\n",
    "\n",
    "Получилось, что этот метод улучшил t-тест, который не работал из-за бимодального распределения в группе 2\n",
    "\n",
    "Отличия в распределении CTR можно увидить и на графиках. На гистограме с линеаризированными лайками распределение во 2 группе по-прежнему бимодальное, но различия между \"горбами\" не такое явное. Получается, что линеаризация повысила чувствительность метрики "
   ]
  },
  {
   "cell_type": "code",
   "execution_count": 139,
   "id": "5771ecfc-27d3-4d4d-955b-e60e5344c6eb",
   "metadata": {},
   "outputs": [
    {
     "data": {
      "text/plain": [
       "<AxesSubplot:xlabel='linearized_likes', ylabel='Count'>"
      ]
     },
     "execution_count": 139,
     "metadata": {},
     "output_type": "execute_result"
    },
    {
     "data": {
      "image/png": "[encoded data removed]",
      "text/plain": [
       "<Figure size 842.4x595.44 with 1 Axes>"
      ]
     },
     "metadata": {},
     "output_type": "display_data"
    }
   ],
   "source": [
    "# график распределения линеаризованных лайков\n",
    "sns.set(rc={'figure.figsize':(11.7,8.27)})\n",
    "sns.histplot(data = users,\n",
    "            x='linearized_likes',\n",
    "            hue='exp_group',\n",
    "            palette=['g','y'],\n",
    "            alpha=0.5,\n",
    "            kde=False)"
   ]
  },
  {
   "cell_type": "code",
   "execution_count": 140,
   "id": "a207643a-8275-46da-bd58-86cccd6ac243",
   "metadata": {},
   "outputs": [
    {
     "data": {
      "text/plain": [
       "<AxesSubplot:xlabel='ctr', ylabel='Count'>"
      ]
     },
     "execution_count": 140,
     "metadata": {},
     "output_type": "execute_result"
    },
    {
     "data": {
      "image/png": "[encoded data removed]",
      "text/plain": [
       "<Figure size 842.4x595.44 with 1 Axes>"
      ]
     },
     "metadata": {},
     "output_type": "display_data"
    }
   ],
   "source": [
    "# график распределения CTR\n",
    "sns.histplot(data = users,\n",
    "            x='ctr',\n",
    "            hue='exp_group',\n",
    "            palette=['g','y'],\n",
    "            alpha=0.5,\n",
    "            kde=False)"
   ]
  },
  {
   "cell_type": "markdown",
   "id": "5e7f677b-9c83-4c33-883f-5b626c2fe743",
   "metadata": {},
   "source": [
    "### Проанализируем тест между группами 0 и 3"
   ]
  },
  {
   "cell_type": "code",
   "execution_count": 141,
   "id": "bcc9113c-d293-4417-a2c1-1f01782fb1f7",
   "metadata": {},
   "outputs": [],
   "source": [
    "# выгружаем данные за период проведения теста\n",
    "query = \"\"\"\n",
    "SELECT exp_group, \n",
    "    user_id,\n",
    "    sum(action = 'like') as likes,\n",
    "    sum(action = 'view') as views,\n",
    "    likes/views as ctr\n",
    "FROM simulator_20220920.feed_actions \n",
    "WHERE toDate(time) between '2022-09-03' and '2022-09-09'\n",
    "    and exp_group in (0,3)\n",
    "GROUP BY exp_group, user_id\n",
    "\"\"\"\n",
    "\n",
    "users = ph.read_clickhouse(query, connection=connection)"
   ]
  },
  {
   "cell_type": "code",
   "execution_count": 142,
   "id": "9e00940e-207b-475d-bc0f-3b838cb74e3b",
   "metadata": {},
   "outputs": [
    {
     "name": "stdout",
     "output_type": "stream",
     "text": [
      "Общий CTR в контрольной группе: 0.208\n"
     ]
    }
   ],
   "source": [
    "# считаем общий CTR в контрольной группе  𝐶𝑇𝑅𝑐𝑜𝑛𝑡𝑟𝑜𝑙=𝑠𝑢𝑚(𝑙𝑖𝑘𝑒𝑠)/𝑠𝑢𝑚(𝑣𝑖𝑒𝑤𝑠)\n",
    "ctr_control = users[users.exp_group == 0].likes.sum() / users[users.exp_group == 0].views.sum()\n",
    "print('Общий CTR в контрольной группе:', round(ctr_control, 3))"
   ]
  },
  {
   "cell_type": "code",
   "execution_count": 143,
   "id": "21ad1109-78bd-4c9f-b26b-bf310d682678",
   "metadata": {},
   "outputs": [
    {
     "data": {
      "text/html": [
       "<div>\n",
       "<style scoped>\n",
       "    .dataframe tbody tr th:only-of-type {\n",
       "        vertical-align: middle;\n",
       "    }\n",
       "\n",
       "    .dataframe tbody tr th {\n",
       "        vertical-align: top;\n",
       "    }\n",
       "\n",
       "    .dataframe thead th {\n",
       "        text-align: right;\n",
       "    }\n",
       "</style>\n",
       "<table border=\"1\" class=\"dataframe\">\n",
       "  <thead>\n",
       "    <tr style=\"text-align: right;\">\n",
       "      <th></th>\n",
       "      <th>exp_group</th>\n",
       "      <th>user_id</th>\n",
       "      <th>likes</th>\n",
       "      <th>views</th>\n",
       "      <th>ctr</th>\n",
       "      <th>linearized_likes</th>\n",
       "    </tr>\n",
       "  </thead>\n",
       "  <tbody>\n",
       "    <tr>\n",
       "      <th>0</th>\n",
       "      <td>3</td>\n",
       "      <td>115383</td>\n",
       "      <td>9</td>\n",
       "      <td>30</td>\n",
       "      <td>0.300000</td>\n",
       "      <td>2.752916</td>\n",
       "    </tr>\n",
       "    <tr>\n",
       "      <th>1</th>\n",
       "      <td>3</td>\n",
       "      <td>123580</td>\n",
       "      <td>13</td>\n",
       "      <td>48</td>\n",
       "      <td>0.270833</td>\n",
       "      <td>3.004666</td>\n",
       "    </tr>\n",
       "    <tr>\n",
       "      <th>2</th>\n",
       "      <td>0</td>\n",
       "      <td>4944</td>\n",
       "      <td>8</td>\n",
       "      <td>41</td>\n",
       "      <td>0.195122</td>\n",
       "      <td>-0.537681</td>\n",
       "    </tr>\n",
       "    <tr>\n",
       "      <th>3</th>\n",
       "      <td>0</td>\n",
       "      <td>4504</td>\n",
       "      <td>5</td>\n",
       "      <td>15</td>\n",
       "      <td>0.333333</td>\n",
       "      <td>1.876458</td>\n",
       "    </tr>\n",
       "    <tr>\n",
       "      <th>4</th>\n",
       "      <td>0</td>\n",
       "      <td>121508</td>\n",
       "      <td>18</td>\n",
       "      <td>88</td>\n",
       "      <td>0.204545</td>\n",
       "      <td>-0.324779</td>\n",
       "    </tr>\n",
       "  </tbody>\n",
       "</table>\n",
       "</div>"
      ],
      "text/plain": [
       "   exp_group  user_id  likes  views       ctr  linearized_likes\n",
       "0          3   115383      9     30  0.300000          2.752916\n",
       "1          3   123580     13     48  0.270833          3.004666\n",
       "2          0     4944      8     41  0.195122         -0.537681\n",
       "3          0     4504      5     15  0.333333          1.876458\n",
       "4          0   121508     18     88  0.204545         -0.324779"
      ]
     },
     "execution_count": 143,
     "metadata": {},
     "output_type": "execute_result"
    }
   ],
   "source": [
    "# посчитаем в обеих группах поюзерную метрику  𝑙𝑖𝑛𝑒𝑎𝑟𝑖𝑧𝑒𝑑_𝑙𝑖𝑘𝑒𝑠=𝑙𝑖𝑘𝑒𝑠−𝐶𝑇𝑅𝑐𝑜𝑛𝑡𝑟𝑜𝑙∗𝑣𝑖𝑒𝑤𝑠\n",
    "users['linearized_likes'] = users.likes - ctr_control * users.views \n",
    "users.head()"
   ]
  },
  {
   "cell_type": "code",
   "execution_count": 145,
   "id": "4b00cc11-f423-4077-b74e-7f098843f7ac",
   "metadata": {},
   "outputs": [
    {
     "data": {
      "text/plain": [
       "Ttest_indResult(statistic=-15.21499546090383, pvalue=5.4914249479687664e-52)"
      ]
     },
     "execution_count": 145,
     "metadata": {},
     "output_type": "execute_result"
    }
   ],
   "source": [
    "# сравним  t-тестом отличия в группах по метрике 𝑙𝑖𝑛𝑒𝑎𝑟𝑖𝑧𝑒𝑑_𝑙𝑖𝑘𝑒𝑠\n",
    "stats.ttest_ind(users[users.exp_group == 0].linearized_likes,\n",
    "                users[users.exp_group == 3].linearized_likes,\n",
    "                equal_var=False)"
   ]
  },
  {
   "cell_type": "code",
   "execution_count": 146,
   "id": "9b8e3972-6851-4a86-b960-fb0d6daf5709",
   "metadata": {},
   "outputs": [
    {
     "data": {
      "text/plain": [
       "Ttest_indResult(statistic=-13.896870721904069, pvalue=1.055849414662529e-43)"
      ]
     },
     "execution_count": 146,
     "metadata": {},
     "output_type": "execute_result"
    }
   ],
   "source": [
    "stats.ttest_ind(users[users.exp_group == 0].ctr,\n",
    "                users[users.exp_group == 3].ctr,\n",
    "                equal_var=False)"
   ]
  },
  {
   "cell_type": "markdown",
   "id": "573a28df-94f6-40f7-a46c-2804e1a1e4fe",
   "metadata": {},
   "source": [
    "#### Вывод:\n",
    "\n",
    "p-value на линеаризированных лайках значительно уменьшился. В одном и другом тесте результат позволяет отвергнуть нулевую гипотезу\n",
    "\n",
    "В этом случае t-тест сработал и до преобразования, т.к. распределение изначально было унимодальное и без большого кол-ва выбросов"
   ]
  },
  {
   "cell_type": "code",
   "execution_count": 147,
   "id": "9552a45b-1501-4dc9-b348-5e15dc505bc1",
   "metadata": {},
   "outputs": [
    {
     "data": {
      "text/plain": [
       "<AxesSubplot:xlabel='linearized_likes', ylabel='Count'>"
      ]
     },
     "execution_count": 147,
     "metadata": {},
     "output_type": "execute_result"
    },
    {
     "data": {
      "image/png": "[encoded data removed]",
      "text/plain": [
       "<Figure size 842.4x595.44 with 1 Axes>"
      ]
     },
     "metadata": {},
     "output_type": "display_data"
    }
   ],
   "source": [
    "# график распределения линеаризованных лайков\n",
    "sns.histplot(data = users,\n",
    "            x='linearized_likes',\n",
    "            hue='exp_group',\n",
    "            palette=['g','y'],\n",
    "            alpha=0.5,\n",
    "            kde=False)"
   ]
  },
  {
   "cell_type": "code",
   "execution_count": 148,
   "id": "205bb987-f340-4fbb-8ce3-332ad72315b3",
   "metadata": {
    "tags": []
   },
   "outputs": [
    {
     "data": {
      "text/plain": [
       "<AxesSubplot:xlabel='ctr', ylabel='Count'>"
      ]
     },
     "execution_count": 148,
     "metadata": {},
     "output_type": "execute_result"
    },
    {
     "data": {
      "image/png": "[encoded data removed]",
      "text/plain": [
       "<Figure size 842.4x595.44 with 1 Axes>"
      ]
     },
     "metadata": {},
     "output_type": "display_data"
    }
   ],
   "source": [
    "# график распределения CTR\n",
    "sns.histplot(data = users,\n",
    "            x='ctr',\n",
    "            hue='exp_group',\n",
    "            palette=['g','y'],\n",
    "            alpha=0.5,\n",
    "            kde=False)"
   ]
  }
 ],
 "metadata": {
  "kernelspec": {
   "display_name": "Python 3 (ipykernel)",
   "language": "python",
   "name": "python3"
  },
  "language_info": {
   "codemirror_mode": {
    "name": "ipython",
    "version": 3
   },
   "file_extension": ".py",
   "mimetype": "text/x-python",
   "name": "python",
   "nbconvert_exporter": "python",
   "pygments_lexer": "ipython3",
   "version": "3.9.12"
  }
 },
 "nbformat": 4,
 "nbformat_minor": 5
}
